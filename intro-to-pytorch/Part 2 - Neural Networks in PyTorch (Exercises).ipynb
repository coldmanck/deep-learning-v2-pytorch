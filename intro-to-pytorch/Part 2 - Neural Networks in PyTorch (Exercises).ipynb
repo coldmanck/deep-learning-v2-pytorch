{
 "cells": [
  {
   "cell_type": "markdown",
   "metadata": {},
   "source": [
    "# Neural networks with PyTorch\n",
    "\n",
    "Deep learning networks tend to be massive with dozens or hundreds of layers, that's where the term \"deep\" comes from. You can build one of these deep networks using only weight matrices as we did in the previous notebook, but in general it's very cumbersome and difficult to implement. PyTorch has a nice module `nn` that provides a nice way to efficiently build large neural networks."
   ]
  },
  {
   "cell_type": "code",
   "execution_count": 2,
   "metadata": {},
   "outputs": [],
   "source": [
    "# Import necessary packages\n",
    "\n",
    "%matplotlib inline\n",
    "%config InlineBackend.figure_format = 'retina'\n",
    "\n",
    "import numpy as np\n",
    "import torch \n",
    " \n",
    "import helper\n",
    "\n",
    "import matplotlib.pyplot as plt"
   ]
  },
  {
   "cell_type": "markdown",
   "metadata": {},
   "source": [
    "\n",
    "Now we're going to build a larger network that can solve a (formerly) difficult problem, identifying text in an image. Here we'll use the MNIST dataset which consists of greyscale handwritten digits. Each image is 28x28 pixels, you can see a sample below\n",
    "\n",
    "<img src='assets/mnist.png'>\n",
    "\n",
    "Our goal is to build a neural network that can take one of these images and predict the digit in the image.\n",
    "\n",
    "First up, we need to get our dataset. This is provided through the `torchvision` package. The code below will download the MNIST dataset, then create training and test datasets for us. Don't worry too much about the details here, you'll learn more about this later."
   ]
  },
  {
   "cell_type": "code",
   "execution_count": 3,
   "metadata": {},
   "outputs": [
    {
     "name": "stdout",
     "output_type": "stream",
     "text": [
      "Downloading http://yann.lecun.com/exdb/mnist/train-images-idx3-ubyte.gz\n",
      "Downloading http://yann.lecun.com/exdb/mnist/train-labels-idx1-ubyte.gz\n",
      "Downloading http://yann.lecun.com/exdb/mnist/t10k-images-idx3-ubyte.gz\n",
      "Downloading http://yann.lecun.com/exdb/mnist/t10k-labels-idx1-ubyte.gz\n",
      "Processing...\n",
      "Done!\n"
     ]
    }
   ],
   "source": [
    "### Run this cell\n",
    "\n",
    "from torchvision import datasets, transforms\n",
    "\n",
    "# Define a transform to normalize the data\n",
    "transform = transforms.Compose([transforms.ToTensor(),\n",
    "                              transforms.Normalize((0.5,), (0.5,)),\n",
    "                              ])\n",
    "\n",
    "# Download and load the training data\n",
    "trainset = datasets.MNIST('~/.pytorch/MNIST_data/', download=True, train=True, transform=transform)\n",
    "trainloader = torch.utils.data.DataLoader(trainset, batch_size=64, shuffle=True)"
   ]
  },
  {
   "cell_type": "markdown",
   "metadata": {},
   "source": [
    "We have the training data loaded into `trainloader` and we make that an iterator with `iter(trainloader)`. Later, we'll use this to loop through the dataset for training, like\n",
    "\n",
    "```python\n",
    "for image, label in trainloader:\n",
    "    ## do things with images and labels\n",
    "```\n",
    "\n",
    "You'll notice I created the `trainloader` with a batch size of 64, and `shuffle=True`. The batch size is the number of images we get in one iteration from the data loader and pass through our network, often called a *batch*. And `shuffle=True` tells it to shuffle the dataset every time we start going through the data loader again. But here I'm just grabbing the first batch so we can check out the data. We can see below that `images` is just a tensor with size `(64, 1, 28, 28)`. So, 64 images per batch, 1 color channel, and 28x28 images."
   ]
  },
  {
   "cell_type": "code",
   "execution_count": 4,
   "metadata": {},
   "outputs": [
    {
     "name": "stdout",
     "output_type": "stream",
     "text": [
      "<class 'torch.Tensor'>\n",
      "torch.Size([64, 1, 28, 28])\n",
      "torch.Size([64])\n"
     ]
    }
   ],
   "source": [
    "dataiter = iter(trainloader)\n",
    "images, labels = dataiter.next()\n",
    "print(type(images))\n",
    "print(images.shape)\n",
    "print(labels.shape)"
   ]
  },
  {
   "cell_type": "markdown",
   "metadata": {},
   "source": [
    "This is what one of the images looks like. "
   ]
  },
  {
   "cell_type": "code",
   "execution_count": 5,
   "metadata": {},
   "outputs": [
    {
     "data": {
      "image/png": "[encoded data removed]",
      "text/plain": [
       "<Figure size 432x288 with 1 Axes>"
      ]
     },
     "metadata": {
      "image/png": {
       "height": 250,
       "width": 253
      },
      "needs_background": "light"
     },
     "output_type": "display_data"
    }
   ],
   "source": [
    "plt.imshow(images[1].numpy().squeeze(), cmap='Greys_r');"
   ]
  },
  {
   "cell_type": "markdown",
   "metadata": {},
   "source": [
    "First, let's try to build a simple network for this dataset using weight matrices and matrix multiplications. Then, we'll see how to do it using PyTorch's `nn` module which provides a much more convenient and powerful method for defining network architectures.\n",
    "\n",
    "The networks you've seen so far are called *fully-connected* or *dense* networks. Each unit in one layer is connected to each unit in the next layer. In fully-connected networks, the input to each layer must be a one-dimensional vector (which can be stacked into a 2D tensor as a batch of multiple examples). However, our images are 28x28 2D tensors, so we need to convert them into 1D vectors. Thinking about sizes, we need to convert the batch of images with shape `(64, 1, 28, 28)` to a have a shape of `(64, 784)`, 784 is 28 times 28. This is typically called *flattening*, we flattened the 2D images into 1D vectors.\n",
    "\n",
    "Previously you built a network with one output unit. Here we need 10 output units, one for each digit. We want our network to predict the digit shown in an image, so what we'll do is calculate probabilities that the image is of any one digit or class. This ends up being a discrete probability distribution over the classes (digits) that tells us the most likely class for the image. That means we need 10 output units for the 10 classes (digits). We'll see how to convert the network output into a probability distribution next.\n",
    "\n",
    "> **Exercise:** Flatten the batch of images `images`. Then build a multi-layer network with 784 input units, 256 hidden units, and 10 output units using random tensors for the weights and biases. For now, use a sigmoid activation for the hidden layer. Leave the output layer without an activation, we'll add one that gives us a probability distribution next."
   ]
  },
  {
   "cell_type": "code",
   "execution_count": 17,
   "metadata": {},
   "outputs": [
    {
     "data": {
      "text/plain": [
       "torch.Size([64, 10])"
      ]
     },
     "execution_count": 17,
     "metadata": {},
     "output_type": "execute_result"
    }
   ],
   "source": [
    "## Your solution\n",
    "def sigmoid(x):\n",
    "    return 1 / (1 + torch.exp(-x))\n",
    "\n",
    "images = images.reshape(64, -1)\n",
    "\n",
    "w1 = torch.randn((784, 256))\n",
    "b1 = torch.randn((1, 256))\n",
    "w2 = torch.randn((256, 10))\n",
    "b2 = torch.randn((1, 10))\n",
    "\n",
    "temp = sigmoid(torch.mm(images, w1) + b1)\n",
    "out = torch.mm(temp, w2) + b2 # output of your network, should have shape (64,10)\n",
    "out.shape"
   ]
  },
  {
   "cell_type": "markdown",
   "metadata": {},
   "source": [
    "Now we have 10 outputs for our network. We want to pass in an image to our network and get out a probability distribution over the classes that tells us the likely class(es) the image belongs to. Something that looks like this:\n",
    "<img src='assets/image_distribution.png' width=500px>\n",
    "\n",
    "Here we see that the probability for each class is roughly the same. This is representing an untrained network, it hasn't seen any data yet so it just returns a uniform distribution with equal probabilities for each class.\n",
    "\n",
    "To calculate this probability distribution, we often use the [**softmax** function](https://en.wikipedia.org/wiki/Softmax_function). Mathematically this looks like\n",
    "\n",
    "$$\n",
    "\\Large \\sigma(x_i) = \\cfrac{e^{x_i}}{\\sum_k^K{e^{x_k}}}\n",
    "$$\n",
    "\n",
    "What this does is squish each input $x_i$ between 0 and 1 and normalizes the values to give you a proper probability distribution where the probabilites sum up to one.\n",
    "\n",
    "> **Exercise:** Implement a function `softmax` that performs the softmax calculation and returns probability distributions for each example in the batch. Note that you'll need to pay attention to the shapes when doing this. If you have a tensor `a` with shape `(64, 10)` and a tensor `b` with shape `(64,)`, doing `a/b` will give you an error because PyTorch will try to do the division across the columns (called broadcasting) but you'll get a size mismatch. The way to think about this is for each of the 64 examples, you only want to divide by one value, the sum in the denominator. So you need `b` to have a shape of `(64, 1)`. This way PyTorch will divide the 10 values in each row of `a` by the one value in each row of `b`. Pay attention to how you take the sum as well. You'll need to define the `dim` keyword in `torch.sum`. Setting `dim=0` takes the sum across the rows while `dim=1` takes the sum across the columns."
   ]
  },
  {
   "cell_type": "code",
   "execution_count": 25,
   "metadata": {},
   "outputs": [
    {
     "name": "stdout",
     "output_type": "stream",
     "text": [
      "torch.Size([64, 10])\n",
      "tensor([1.0000, 1.0000, 1.0000, 1.0000, 1.0000, 1.0000, 1.0000, 1.0000, 1.0000,\n",
      "        1.0000, 1.0000, 1.0000, 1.0000, 1.0000, 1.0000, 1.0000, 1.0000, 1.0000,\n",
      "        1.0000, 1.0000, 1.0000, 1.0000, 1.0000, 1.0000, 1.0000, 1.0000, 1.0000,\n",
      "        1.0000, 1.0000, 1.0000, 1.0000, 1.0000, 1.0000, 1.0000, 1.0000, 1.0000,\n",
      "        1.0000, 1.0000, 1.0000, 1.0000, 1.0000, 1.0000, 1.0000, 1.0000, 1.0000,\n",
      "        1.0000, 1.0000, 1.0000, 1.0000, 1.0000, 1.0000, 1.0000, 1.0000, 1.0000,\n",
      "        1.0000, 1.0000, 1.0000, 1.0000, 1.0000, 1.0000, 1.0000, 1.0000, 1.0000,\n",
      "        1.0000])\n",
      "tensor([[4.8619e-07, 6.6152e-11, 9.2370e-09, 4.8200e-11, 9.9993e-01, 5.3453e-12,\n",
      "         2.3508e-08, 7.8765e-10, 7.3693e-05, 6.0996e-08],\n",
      "        [9.2566e-01, 2.2407e-10, 7.8527e-07, 6.2636e-08, 4.4598e-04, 3.4003e-10,\n",
      "         4.4627e-02, 1.0414e-02, 1.8855e-02, 5.3420e-08],\n",
      "        [9.3572e-01, 2.0358e-14, 1.2562e-07, 8.8457e-06, 4.3369e-03, 9.0654e-10,\n",
      "         3.1085e-07, 8.6958e-06, 5.9921e-02, 1.7547e-09],\n",
      "        [9.8583e-01, 2.6404e-07, 2.1267e-08, 3.1832e-10, 1.2644e-02, 2.1226e-09,\n",
      "         2.4127e-07, 7.9697e-06, 1.5160e-03, 1.3354e-07],\n",
      "        [4.9469e-01, 4.7968e-08, 8.2176e-11, 1.3250e-07, 5.0458e-01, 1.2305e-09,\n",
      "         9.2215e-10, 3.7046e-05, 6.7698e-04, 1.3789e-05],\n",
      "        [9.9962e-01, 6.1117e-09, 8.2560e-09, 3.7585e-12, 4.1127e-05, 3.6849e-09,\n",
      "         5.9977e-06, 5.3501e-06, 3.2913e-04, 1.0498e-06],\n",
      "        [1.1635e-01, 2.3502e-10, 1.2412e-07, 8.5967e-11, 8.8231e-01, 1.4714e-11,\n",
      "         2.7030e-09, 5.9715e-08, 1.3170e-03, 1.9759e-05],\n",
      "        [1.0000e+00, 1.2230e-16, 4.2272e-12, 5.6219e-14, 7.8151e-07, 1.0229e-15,\n",
      "         1.2771e-13, 9.4547e-11, 1.3869e-08, 7.6841e-12],\n",
      "        [9.9230e-01, 6.5181e-13, 5.0476e-06, 1.6740e-09, 1.3865e-04, 2.8743e-12,\n",
      "         2.7993e-07, 7.2115e-08, 7.5556e-03, 1.2908e-10],\n",
      "        [2.1055e-01, 7.0836e-13, 3.3039e-09, 2.5736e-12, 7.8937e-01, 5.8364e-08,\n",
      "         9.1171e-08, 5.4805e-07, 8.3316e-05, 2.9595e-07],\n",
      "        [8.1809e-01, 2.5273e-13, 1.4059e-07, 3.4877e-06, 4.9966e-04, 4.7966e-08,\n",
      "         1.3960e-10, 2.7125e-08, 1.8140e-01, 3.5791e-09],\n",
      "        [1.7291e-04, 1.1000e-08, 1.4399e-09, 1.4981e-13, 9.6687e-01, 6.1669e-08,\n",
      "         4.7176e-09, 2.8362e-07, 3.2956e-02, 1.6056e-09],\n",
      "        [1.0000e+00, 1.6564e-10, 5.0828e-14, 7.5390e-08, 6.4050e-10, 1.5067e-14,\n",
      "         5.2423e-13, 5.5673e-10, 8.8877e-09, 9.4656e-09],\n",
      "        [5.0501e-02, 7.0371e-09, 8.3109e-10, 4.5431e-13, 9.4937e-01, 7.9546e-12,\n",
      "         1.4001e-07, 1.0544e-07, 1.3137e-04, 8.7579e-07],\n",
      "        [2.3159e-02, 1.1085e-04, 1.5893e-09, 1.4053e-09, 5.3776e-04, 9.0799e-07,\n",
      "         1.8953e-11, 2.0762e-05, 9.7617e-01, 1.6413e-06],\n",
      "        [9.9990e-01, 2.3247e-15, 2.2733e-07, 1.9707e-08, 7.6290e-07, 1.7230e-11,\n",
      "         2.1742e-06, 9.6158e-05, 1.1653e-06, 5.7437e-12],\n",
      "        [1.0000e+00, 4.8840e-13, 3.4675e-11, 9.9392e-07, 3.0211e-07, 1.7914e-15,\n",
      "         8.3743e-09, 1.6235e-07, 9.2945e-07, 1.2266e-06],\n",
      "        [9.6082e-01, 1.7003e-09, 1.1709e-04, 1.0167e-03, 4.9077e-05, 4.6037e-13,\n",
      "         1.4728e-07, 3.7860e-02, 1.1940e-04, 2.0581e-05],\n",
      "        [9.9703e-01, 7.5520e-16, 9.7187e-08, 4.1981e-10, 7.9697e-06, 2.0289e-15,\n",
      "         3.1960e-11, 1.3502e-11, 2.9597e-03, 3.4127e-10],\n",
      "        [8.9945e-01, 2.3209e-06, 1.3673e-11, 1.5198e-07, 3.6253e-03, 3.6314e-08,\n",
      "         3.5567e-09, 3.5350e-04, 9.6537e-02, 3.5920e-05],\n",
      "        [1.6835e-03, 1.7954e-12, 4.0851e-13, 2.9931e-12, 9.9832e-01, 1.4088e-11,\n",
      "         3.2457e-09, 9.0965e-10, 1.1074e-06, 3.9832e-10],\n",
      "        [1.7486e-02, 3.6629e-11, 1.2362e-09, 3.7271e-07, 9.7469e-01, 7.4218e-10,\n",
      "         6.3939e-11, 1.9448e-07, 7.8265e-03, 1.7624e-09],\n",
      "        [1.0000e+00, 7.4090e-15, 5.4861e-08, 1.0980e-06, 5.1431e-07, 7.8031e-10,\n",
      "         7.9019e-09, 9.3723e-10, 6.8613e-11, 5.6810e-12],\n",
      "        [2.4307e-04, 1.6773e-05, 4.2804e-06, 8.5229e-15, 1.1278e-04, 2.0989e-05,\n",
      "         5.6251e-10, 3.7638e-08, 9.9960e-01, 1.9533e-06],\n",
      "        [9.3805e-01, 7.3821e-16, 5.0618e-09, 9.9928e-12, 6.1411e-02, 7.1782e-07,\n",
      "         1.4664e-04, 1.3538e-04, 2.5519e-04, 3.8123e-09],\n",
      "        [9.9323e-01, 6.9795e-12, 7.1271e-10, 3.3937e-12, 6.4103e-03, 1.8896e-10,\n",
      "         1.9346e-07, 1.8578e-04, 1.5315e-04, 2.4217e-05],\n",
      "        [3.8338e-01, 1.0946e-06, 1.1118e-03, 3.9156e-07, 6.1471e-01, 2.2074e-04,\n",
      "         2.5348e-07, 3.5424e-07, 5.6838e-04, 3.0597e-08],\n",
      "        [6.5704e-01, 5.3432e-08, 3.2881e-05, 1.7375e-11, 3.0402e-01, 1.6263e-09,\n",
      "         3.5066e-08, 3.6631e-07, 3.8871e-02, 3.2640e-05],\n",
      "        [9.7329e-01, 7.9386e-07, 7.3260e-08, 2.0141e-04, 1.1505e-07, 2.7025e-11,\n",
      "         3.2732e-08, 1.4050e-06, 2.6511e-02, 7.5850e-09],\n",
      "        [9.9945e-01, 2.0435e-10, 4.9237e-04, 1.3016e-07, 1.4958e-05, 9.4049e-11,\n",
      "         2.2965e-08, 1.2364e-09, 4.5651e-05, 3.2175e-08],\n",
      "        [9.9856e-01, 6.5544e-14, 2.0007e-10, 2.7308e-13, 1.4331e-03, 2.9324e-10,\n",
      "         3.7003e-07, 2.7833e-07, 1.0603e-05, 1.7220e-09],\n",
      "        [9.9701e-01, 1.2959e-12, 4.9754e-12, 1.7658e-15, 1.6476e-03, 3.3249e-13,\n",
      "         2.5718e-09, 4.7036e-10, 1.3422e-03, 1.6714e-10],\n",
      "        [8.9862e-01, 5.7208e-06, 5.5772e-09, 9.0144e-12, 3.8471e-04, 1.1485e-07,\n",
      "         6.1544e-07, 8.0114e-02, 2.0519e-02, 3.5930e-04],\n",
      "        [7.5092e-01, 1.3358e-06, 2.1848e-01, 1.2776e-04, 2.1777e-03, 6.2998e-10,\n",
      "         4.3306e-03, 3.1393e-06, 2.3669e-02, 2.9010e-04],\n",
      "        [9.9990e-01, 4.7958e-14, 6.0303e-08, 1.7534e-07, 8.3834e-05, 5.1159e-12,\n",
      "         1.2981e-11, 1.9063e-05, 1.5121e-06, 1.1810e-07],\n",
      "        [1.9858e-03, 3.3084e-08, 6.0667e-09, 3.6713e-11, 7.6437e-01, 2.2755e-07,\n",
      "         2.3346e-08, 6.6570e-06, 2.3363e-01, 8.6661e-07],\n",
      "        [9.9891e-01, 1.6678e-12, 9.4911e-07, 3.3340e-07, 1.3376e-04, 1.9759e-10,\n",
      "         1.5728e-08, 1.0917e-09, 9.5756e-04, 1.6918e-13],\n",
      "        [9.9677e-01, 2.1253e-12, 2.6911e-09, 2.5496e-09, 3.4927e-04, 1.7793e-13,\n",
      "         4.8038e-13, 1.3232e-04, 2.7532e-03, 2.1152e-07],\n",
      "        [5.3568e-01, 1.5658e-03, 4.6177e-03, 3.9675e-02, 3.8732e-01, 1.0274e-08,\n",
      "         4.6155e-05, 1.7278e-05, 2.9576e-02, 1.5047e-03],\n",
      "        [9.6616e-01, 3.9740e-10, 3.8894e-03, 4.3041e-05, 7.6301e-03, 1.4125e-07,\n",
      "         2.0607e-05, 1.4987e-05, 2.2241e-02, 4.9919e-06],\n",
      "        [9.2570e-01, 1.2904e-11, 5.9029e-03, 1.9814e-10, 1.7990e-02, 4.7127e-02,\n",
      "         7.8130e-08, 5.0257e-08, 3.2773e-03, 1.1707e-09],\n",
      "        [9.9763e-01, 1.0867e-09, 2.7886e-07, 1.3586e-04, 1.1534e-03, 5.7668e-11,\n",
      "         9.8778e-08, 1.0541e-03, 1.0033e-06, 2.9908e-05],\n",
      "        [9.7951e-01, 1.0044e-11, 3.0865e-11, 6.6092e-13, 2.0301e-02, 8.6036e-09,\n",
      "         2.5211e-07, 1.6108e-04, 2.2933e-05, 1.3880e-08],\n",
      "        [1.1828e-02, 1.2941e-09, 5.1246e-12, 1.1578e-13, 9.8790e-01, 1.3855e-08,\n",
      "         4.1062e-09, 3.2687e-09, 2.7249e-04, 5.4217e-10],\n",
      "        [9.9122e-01, 3.2361e-04, 1.0310e-09, 5.5094e-07, 8.1089e-03, 1.2575e-07,\n",
      "         7.7991e-06, 1.8635e-06, 5.1185e-05, 2.8273e-04],\n",
      "        [3.6759e-04, 1.4808e-10, 1.5104e-09, 1.8223e-12, 9.9963e-01, 6.5938e-09,\n",
      "         8.5232e-07, 3.5973e-08, 3.4703e-06, 8.7867e-09],\n",
      "        [1.5473e-01, 1.1433e-08, 9.4100e-04, 2.1577e-06, 5.4480e-01, 1.9612e-12,\n",
      "         1.3943e-10, 1.2050e-04, 2.9940e-01, 5.4021e-07],\n",
      "        [8.7838e-03, 2.7886e-11, 1.9647e-10, 1.0392e-14, 9.9121e-01, 9.1399e-09,\n",
      "         5.6711e-07, 1.6582e-07, 1.3638e-06, 6.7193e-07],\n",
      "        [5.7790e-03, 1.8431e-11, 6.7476e-10, 4.6486e-11, 9.9416e-01, 2.3218e-12,\n",
      "         2.9988e-08, 1.5909e-05, 4.0599e-05, 1.5017e-08],\n",
      "        [4.0593e-03, 1.5932e-11, 1.4003e-11, 3.5069e-13, 9.9588e-01, 1.6075e-08,\n",
      "         3.6596e-08, 9.7015e-07, 5.7166e-05, 3.1954e-09],\n",
      "        [2.8333e-01, 3.8674e-09, 3.7833e-09, 9.7677e-11, 7.1616e-01, 8.5163e-09,\n",
      "         1.0652e-07, 5.1156e-04, 9.3159e-07, 3.9807e-09],\n",
      "        [6.7787e-01, 1.6396e-04, 2.5878e-01, 1.0669e-05, 6.1098e-02, 1.6097e-03,\n",
      "         3.3587e-07, 1.7416e-06, 4.6751e-04, 1.3337e-08],\n",
      "        [9.9962e-01, 2.2839e-12, 5.0682e-12, 3.0597e-12, 3.7503e-04, 3.4694e-15,\n",
      "         1.3141e-10, 2.4365e-10, 2.5486e-09, 1.5804e-09],\n",
      "        [8.2088e-01, 4.1650e-05, 7.2569e-11, 3.3492e-11, 1.7879e-01, 4.1958e-10,\n",
      "         5.4899e-09, 3.0805e-11, 2.9189e-04, 4.4459e-10],\n",
      "        [3.3590e-04, 4.3514e-11, 3.3805e-09, 1.3571e-08, 2.6115e-01, 1.2338e-06,\n",
      "         1.2415e-10, 1.2857e-04, 7.3839e-01, 2.0714e-06],\n",
      "        [9.6236e-01, 2.1875e-07, 1.3945e-13, 8.5012e-14, 3.7633e-02, 4.4450e-12,\n",
      "         3.9297e-09, 1.3536e-12, 2.4703e-06, 1.5821e-10],\n",
      "        [9.9686e-01, 5.6836e-05, 8.3961e-05, 3.5084e-07, 1.5477e-03, 2.5725e-08,\n",
      "         1.6643e-07, 3.4866e-06, 8.2968e-04, 6.1308e-04],\n",
      "        [6.6584e-01, 2.0463e-11, 1.8264e-08, 2.2036e-07, 2.5344e-01, 3.4918e-12,\n",
      "         2.0594e-05, 8.5489e-03, 7.2151e-02, 1.3471e-07],\n",
      "        [9.8840e-01, 2.0513e-09, 1.8641e-09, 1.9525e-09, 2.7079e-03, 1.5844e-08,\n",
      "         4.9184e-11, 2.4295e-08, 8.8923e-03, 4.1468e-09],\n",
      "        [3.5623e-03, 8.0849e-10, 4.3379e-10, 8.9613e-14, 9.9643e-01, 2.7175e-07,\n",
      "         6.9035e-08, 1.1530e-06, 1.3982e-06, 8.6174e-07],\n",
      "        [2.2972e-04, 2.3505e-06, 1.2089e-12, 4.5368e-13, 4.3821e-06, 2.5395e-06,\n",
      "         1.8854e-09, 1.1786e-06, 9.9976e-01, 4.8058e-07],\n",
      "        [2.6543e-02, 1.3691e-11, 1.6883e-09, 6.9273e-14, 9.7343e-01, 1.3721e-07,\n",
      "         1.6439e-05, 5.4370e-06, 3.3594e-07, 6.6771e-07],\n",
      "        [1.0000e+00, 2.4815e-14, 3.3858e-08, 9.8419e-10, 4.4144e-07, 1.2786e-07,\n",
      "         3.3308e-13, 1.2496e-06, 3.8144e-09, 1.1433e-14],\n",
      "        [8.3399e-07, 7.0973e-15, 1.9173e-11, 1.6811e-13, 1.0000e+00, 6.0751e-12,\n",
      "         3.1953e-10, 2.9478e-10, 5.2337e-07, 4.9870e-08]])\n"
     ]
    }
   ],
   "source": [
    "def softmax(x):\n",
    "    output = torch.zeros_like(x)\n",
    "    for i in range(x.shape[0]):\n",
    "        sumx = torch.sum(torch.exp(x[i]))\n",
    "        for j in range(x.shape[1]):\n",
    "            output[i][j] = torch.exp(x[i][j]) / sumx\n",
    "    return output\n",
    "    # return torch.exp(x)/torch.sum(torch.exp(x), dim=1).view(-1, 1)\n",
    "\n",
    "# Here, out should be the output of the network in the previous excercise with shape (64,10)\n",
    "probabilities = softmax(out)\n",
    "\n",
    "# Does it have the right shape? Should be (64, 10)\n",
    "print(probabilities.shape)\n",
    "# Does it sum to 1?\n",
    "print(probabilities.sum(dim=1))\n",
    "print(probabilities)"
   ]
  },
  {
   "cell_type": "markdown",
   "metadata": {},
   "source": [
    "## Building networks with PyTorch\n",
    "\n",
    "PyTorch provides a module `nn` that makes building networks much simpler. Here I'll show you how to build the same one as above with 784 inputs, 256 hidden units, 10 output units and a softmax output."
   ]
  },
  {
   "cell_type": "code",
   "execution_count": 27,
   "metadata": {},
   "outputs": [],
   "source": [
    "from torch import nn"
   ]
  },
  {
   "cell_type": "code",
   "execution_count": 28,
   "metadata": {},
   "outputs": [],
   "source": [
    "class Network(nn.Module):\n",
    "    def __init__(self):\n",
    "        super().__init__()\n",
    "        \n",
    "        # Inputs to hidden layer linear transformation\n",
    "        self.hidden = nn.Linear(784, 256)\n",
    "        # Output layer, 10 units - one for each digit\n",
    "        self.output = nn.Linear(256, 10)\n",
    "        \n",
    "        # Define sigmoid activation and softmax output \n",
    "        self.sigmoid = nn.Sigmoid()\n",
    "        self.softmax = nn.Softmax(dim=1)\n",
    "        \n",
    "    def forward(self, x):\n",
    "        # Pass the input tensor through each of our operations\n",
    "        x = self.hidden(x)\n",
    "        x = self.sigmoid(x)\n",
    "        x = self.output(x)\n",
    "        x = self.softmax(x)\n",
    "        \n",
    "        return x"
   ]
  },
  {
   "cell_type": "markdown",
   "metadata": {},
   "source": [
    "Let's go through this bit by bit.\n",
    "\n",
    "```python\n",
    "class Network(nn.Module):\n",
    "```\n",
    "\n",
    "Here we're inheriting from `nn.Module`. Combined with `super().__init__()` this creates a class that tracks the architecture and provides a lot of useful methods and attributes. It is mandatory to inherit from `nn.Module` when you're creating a class for your network. The name of the class itself can be anything.\n",
    "\n",
    "```python\n",
    "self.hidden = nn.Linear(784, 256)\n",
    "```\n",
    "\n",
    "This line creates a module for a linear transformation, $x\\mathbf{W} + b$, with 784 inputs and 256 outputs and assigns it to `self.hidden`. The module automatically creates the weight and bias tensors which we'll use in the `forward` method. You can access the weight and bias tensors once the network (`net`) is created with `net.hidden.weight` and `net.hidden.bias`.\n",
    "\n",
    "```python\n",
    "self.output = nn.Linear(256, 10)\n",
    "```\n",
    "\n",
    "Similarly, this creates another linear transformation with 256 inputs and 10 outputs.\n",
    "\n",
    "```python\n",
    "self.sigmoid = nn.Sigmoid()\n",
    "self.softmax = nn.Softmax(dim=1)\n",
    "```\n",
    "\n",
    "Here I defined operations for the sigmoid activation and softmax output. Setting `dim=1` in `nn.Softmax(dim=1)` calculates softmax across the columns.\n",
    "\n",
    "```python\n",
    "def forward(self, x):\n",
    "```\n",
    "\n",
    "PyTorch networks created with `nn.Module` must have a `forward` method defined. It takes in a tensor `x` and passes it through the operations you defined in the `__init__` method.\n",
    "\n",
    "```python\n",
    "x = self.hidden(x)\n",
    "x = self.sigmoid(x)\n",
    "x = self.output(x)\n",
    "x = self.softmax(x)\n",
    "```\n",
    "\n",
    "Here the input tensor `x` is passed through each operation a reassigned to `x`. We can see that the input tensor goes through the hidden layer, then a sigmoid function, then the output layer, and finally the softmax function. It doesn't matter what you name the variables here, as long as the inputs and outputs of the operations match the network architecture you want to build. The order in which you define things in the `__init__` method doesn't matter, but you'll need to sequence the operations correctly in the `forward` method.\n",
    "\n",
    "Now we can create a `Network` object."
   ]
  },
  {
   "cell_type": "code",
   "execution_count": 29,
   "metadata": {},
   "outputs": [
    {
     "data": {
      "text/plain": [
       "Network(\n",
       "  (hidden): Linear(in_features=784, out_features=256, bias=True)\n",
       "  (output): Linear(in_features=256, out_features=10, bias=True)\n",
       "  (sigmoid): Sigmoid()\n",
       "  (softmax): Softmax()\n",
       ")"
      ]
     },
     "execution_count": 29,
     "metadata": {},
     "output_type": "execute_result"
    }
   ],
   "source": [
    "# Create the network and look at it's text representation\n",
    "model = Network()\n",
    "model"
   ]
  },
  {
   "cell_type": "markdown",
   "metadata": {},
   "source": [
    "You can define the network somewhat more concisely and clearly using the `torch.nn.functional` module. This is the most common way you'll see networks defined as many operations are simple element-wise functions. We normally import this module as `F`, `import torch.nn.functional as F`."
   ]
  },
  {
   "cell_type": "code",
   "execution_count": 30,
   "metadata": {},
   "outputs": [],
   "source": [
    "import torch.nn.functional as F\n",
    "\n",
    "class Network(nn.Module):\n",
    "    def __init__(self):\n",
    "        super().__init__()\n",
    "        # Inputs to hidden layer linear transformation\n",
    "        self.hidden = nn.Linear(784, 256)\n",
    "        # Output layer, 10 units - one for each digit\n",
    "        self.output = nn.Linear(256, 10)\n",
    "        \n",
    "    def forward(self, x):\n",
    "        # Hidden layer with sigmoid activation\n",
    "        x = F.sigmoid(self.hidden(x))\n",
    "        # Output layer with softmax activation\n",
    "        x = F.softmax(self.output(x), dim=1)\n",
    "        \n",
    "        return x"
   ]
  },
  {
   "cell_type": "markdown",
   "metadata": {},
   "source": [
    "### Activation functions\n",
    "\n",
    "So far we've only been looking at the softmax activation, but in general any function can be used as an activation function. The only requirement is that for a network to approximate a non-linear function, the activation functions must be non-linear. Here are a few more examples of common activation functions: Tanh (hyperbolic tangent), and ReLU (rectified linear unit).\n",
    "\n",
    "<img src=\"assets/activation.png\" width=700px>\n",
    "\n",
    "In practice, the ReLU function is used almost exclusively as the activation function for hidden layers."
   ]
  },
  {
   "cell_type": "markdown",
   "metadata": {},
   "source": [
    "### Your Turn to Build a Network\n",
    "\n",
    "<img src=\"assets/mlp_mnist.png\" width=600px>\n",
    "\n",
    "> **Exercise:** Create a network with 784 input units, a hidden layer with 128 units and a ReLU activation, then a hidden layer with 64 units and a ReLU activation, and finally an output layer with a softmax activation as shown above. You can use a ReLU activation with the `nn.ReLU` module or `F.relu` function."
   ]
  },
  {
   "cell_type": "code",
   "execution_count": 48,
   "metadata": {
    "scrolled": true
   },
   "outputs": [
    {
     "data": {
      "text/plain": [
       "ThreeLayerNetwork(\n",
       "  (fc1): Linear(in_features=784, out_features=128, bias=True)\n",
       "  (fc2): Linear(in_features=128, out_features=64, bias=True)\n",
       "  (fc3): Linear(in_features=64, out_features=10, bias=True)\n",
       ")"
      ]
     },
     "execution_count": 48,
     "metadata": {},
     "output_type": "execute_result"
    }
   ],
   "source": [
    "## Your solution here\n",
    "class ThreeLayerNetwork(nn.Module):\n",
    "    def __init__(self):\n",
    "        super().__init__()\n",
    "        \n",
    "        self.fc1 = nn.Linear(784, 128)\n",
    "        self.fc2 = nn.Linear(128, 64)\n",
    "        self.fc3 = nn.Linear(64, 10)\n",
    "        \n",
    "    def forward(self, x):\n",
    "        x = F.relu(self.fc1(x))\n",
    "        x = F.relu(self.fc2(x))\n",
    "        x = F.softmax(self.fc3(x), dim=1)\n",
    "        \n",
    "        return x\n",
    "\n",
    "model = ThreeLayerNetwork()\n",
    "model"
   ]
  },
  {
   "cell_type": "markdown",
   "metadata": {},
   "source": [
    "### Initializing weights and biases\n",
    "\n",
    "The weights and such are automatically initialized for you, but it's possible to customize how they are initialized. The weights and biases are tensors attached to the layer you defined, you can get them with `model.fc1.weight` for instance."
   ]
  },
  {
   "cell_type": "code",
   "execution_count": 49,
   "metadata": {},
   "outputs": [
    {
     "name": "stdout",
     "output_type": "stream",
     "text": [
      "Parameter containing:\n",
      "tensor([[ 0.0351, -0.0241,  0.0023,  ..., -0.0035, -0.0019,  0.0245],\n",
      "        [ 0.0027,  0.0101,  0.0223,  ...,  0.0111,  0.0299, -0.0191],\n",
      "        [-0.0157, -0.0115,  0.0104,  ...,  0.0018, -0.0116, -0.0059],\n",
      "        ...,\n",
      "        [-0.0262,  0.0314,  0.0022,  ..., -0.0176, -0.0170, -0.0007],\n",
      "        [ 0.0348, -0.0310,  0.0263,  ..., -0.0014,  0.0020, -0.0171],\n",
      "        [-0.0239, -0.0093,  0.0280,  ...,  0.0354, -0.0251,  0.0058]],\n",
      "       requires_grad=True)\n",
      "Parameter containing:\n",
      "tensor([ 0.0019, -0.0341, -0.0137, -0.0203,  0.0256, -0.0008, -0.0264,  0.0020,\n",
      "        -0.0310, -0.0024, -0.0144,  0.0331,  0.0091,  0.0215, -0.0027, -0.0084,\n",
      "         0.0276, -0.0206,  0.0123, -0.0077, -0.0276,  0.0075, -0.0032,  0.0307,\n",
      "         0.0308, -0.0255, -0.0072,  0.0109,  0.0078, -0.0325,  0.0352, -0.0303,\n",
      "        -0.0189,  0.0155, -0.0182,  0.0262, -0.0201, -0.0022,  0.0047,  0.0092,\n",
      "         0.0061,  0.0309, -0.0351,  0.0053,  0.0058, -0.0125, -0.0331,  0.0025,\n",
      "         0.0283,  0.0320, -0.0088,  0.0010,  0.0137, -0.0217,  0.0158,  0.0344,\n",
      "         0.0027,  0.0090,  0.0112, -0.0212, -0.0051,  0.0223,  0.0113,  0.0096,\n",
      "        -0.0306,  0.0088, -0.0032, -0.0170,  0.0176,  0.0127, -0.0190,  0.0295,\n",
      "         0.0194,  0.0305,  0.0303,  0.0071,  0.0027, -0.0073, -0.0053,  0.0352,\n",
      "        -0.0048, -0.0317,  0.0199,  0.0226,  0.0208, -0.0099,  0.0097, -0.0123,\n",
      "         0.0314,  0.0243,  0.0330,  0.0044, -0.0205, -0.0156, -0.0200,  0.0034,\n",
      "        -0.0165, -0.0277,  0.0289,  0.0040,  0.0051,  0.0128, -0.0305,  0.0125,\n",
      "         0.0329,  0.0075, -0.0180, -0.0296,  0.0320, -0.0094, -0.0021, -0.0297,\n",
      "         0.0307, -0.0194, -0.0119,  0.0132, -0.0134, -0.0205, -0.0008,  0.0083,\n",
      "         0.0009,  0.0181, -0.0268,  0.0167,  0.0030, -0.0281, -0.0276,  0.0072],\n",
      "       requires_grad=True)\n"
     ]
    }
   ],
   "source": [
    "print(model.fc1.weight)\n",
    "print(model.fc1.bias)"
   ]
  },
  {
   "cell_type": "markdown",
   "metadata": {},
   "source": [
    "For custom initialization, we want to modify these tensors in place. These are actually autograd *Variables*, so we need to get back the actual tensors with `model.fc1.weight.data`. Once we have the tensors, we can fill them with zeros (for biases) or random normal values."
   ]
  },
  {
   "cell_type": "code",
   "execution_count": 50,
   "metadata": {},
   "outputs": [
    {
     "data": {
      "text/plain": [
       "Parameter containing:\n",
       "tensor([0., 0., 0., 0., 0., 0., 0., 0., 0., 0., 0., 0., 0., 0., 0., 0., 0., 0.,\n",
       "        0., 0., 0., 0., 0., 0., 0., 0., 0., 0., 0., 0., 0., 0., 0., 0., 0., 0.,\n",
       "        0., 0., 0., 0., 0., 0., 0., 0., 0., 0., 0., 0., 0., 0., 0., 0., 0., 0.,\n",
       "        0., 0., 0., 0., 0., 0., 0., 0., 0., 0., 0., 0., 0., 0., 0., 0., 0., 0.,\n",
       "        0., 0., 0., 0., 0., 0., 0., 0., 0., 0., 0., 0., 0., 0., 0., 0., 0., 0.,\n",
       "        0., 0., 0., 0., 0., 0., 0., 0., 0., 0., 0., 0., 0., 0., 0., 0., 0., 0.,\n",
       "        0., 0., 0., 0., 0., 0., 0., 0., 0., 0., 0., 0., 0., 0., 0., 0., 0., 0.,\n",
       "        0., 0.], requires_grad=True)"
      ]
     },
     "execution_count": 50,
     "metadata": {},
     "output_type": "execute_result"
    }
   ],
   "source": [
    "# Set biases to all zeros\n",
    "model.fc1.bias.data.fill_(0)\n",
    "model.fc1.bias"
   ]
  },
  {
   "cell_type": "code",
   "execution_count": 51,
   "metadata": {},
   "outputs": [
    {
     "data": {
      "text/plain": [
       "Parameter containing:\n",
       "tensor([[ 0.0054, -0.0141,  0.0041,  ..., -0.0067,  0.0075, -0.0224],\n",
       "        [ 0.0133, -0.0037,  0.0212,  ...,  0.0308,  0.0023, -0.0028],\n",
       "        [ 0.0022,  0.0195, -0.0210,  ..., -0.0046,  0.0235,  0.0072],\n",
       "        ...,\n",
       "        [-0.0167,  0.0060,  0.0064,  ...,  0.0059,  0.0003,  0.0122],\n",
       "        [ 0.0091, -0.0104, -0.0086,  ...,  0.0026,  0.0020,  0.0033],\n",
       "        [ 0.0119,  0.0207, -0.0105,  ...,  0.0031,  0.0021,  0.0124]],\n",
       "       requires_grad=True)"
      ]
     },
     "execution_count": 51,
     "metadata": {},
     "output_type": "execute_result"
    }
   ],
   "source": [
    "# sample from random normal with standard dev = 0.01\n",
    "model.fc1.weight.data.normal_(std=0.01)\n",
    "model.fc1.weight"
   ]
  },
  {
   "cell_type": "markdown",
   "metadata": {},
   "source": [
    "### Forward pass\n",
    "\n",
    "Now that we have a network, let's see what happens when we pass in an image."
   ]
  },
  {
   "cell_type": "code",
   "execution_count": 52,
   "metadata": {},
   "outputs": [
    {
     "data": {
      "image/png": "[encoded data removed]",
      "text/plain": [
       "<Figure size 432x648 with 2 Axes>"
      ]
     },
     "metadata": {
      "image/png": {
       "height": 226,
       "width": 423
      },
      "needs_background": "light"
     },
     "output_type": "display_data"
    }
   ],
   "source": [
    "# Grab some data \n",
    "dataiter = iter(trainloader)\n",
    "images, labels = dataiter.next()\n",
    "\n",
    "# Resize images into a 1D vector, new shape is (batch size, color channels, image pixels) \n",
    "images.resize_(64, 1, 784)\n",
    "# or images.resize_(images.shape[0], 1, 784) to automatically get batch size\n",
    "\n",
    "# Forward pass through the network\n",
    "img_idx = 0\n",
    "ps = model.forward(images[img_idx,:])\n",
    "\n",
    "img = images[img_idx]\n",
    "helper.view_classify(img.view(1, 28, 28), ps)"
   ]
  },
  {
   "cell_type": "markdown",
   "metadata": {},
   "source": [
    "As you can see above, our network has basically no idea what this digit is. It's because we haven't trained it yet, all the weights are random!\n",
    "\n",
    "### Using `nn.Sequential`\n",
    "\n",
    "PyTorch provides a convenient way to build networks like this where a tensor is passed sequentially through operations, `nn.Sequential` ([documentation](https://pytorch.org/docs/master/nn.html#torch.nn.Sequential)). Using this to build the equivalent network:"
   ]
  },
  {
   "cell_type": "code",
   "execution_count": 53,
   "metadata": {},
   "outputs": [
    {
     "name": "stdout",
     "output_type": "stream",
     "text": [
      "Sequential(\n",
      "  (0): Linear(in_features=784, out_features=128, bias=True)\n",
      "  (1): ReLU()\n",
      "  (2): Linear(in_features=128, out_features=64, bias=True)\n",
      "  (3): ReLU()\n",
      "  (4): Linear(in_features=64, out_features=10, bias=True)\n",
      "  (5): Softmax()\n",
      ")\n"
     ]
    },
    {
     "data": {
      "image/png": "[encoded data removed]",
      "text/plain": [
       "<Figure size 432x648 with 2 Axes>"
      ]
     },
     "metadata": {
      "image/png": {
       "height": 226,
       "width": 423
      },
      "needs_background": "light"
     },
     "output_type": "display_data"
    }
   ],
   "source": [
    "# Hyperparameters for our network\n",
    "input_size = 784\n",
    "hidden_sizes = [128, 64]\n",
    "output_size = 10\n",
    "\n",
    "# Build a feed-forward network\n",
    "model = nn.Sequential(nn.Linear(input_size, hidden_sizes[0]),\n",
    "                      nn.ReLU(),\n",
    "                      nn.Linear(hidden_sizes[0], hidden_sizes[1]),\n",
    "                      nn.ReLU(),\n",
    "                      nn.Linear(hidden_sizes[1], output_size),\n",
    "                      nn.Softmax(dim=1))\n",
    "print(model)\n",
    "\n",
    "# Forward pass through the network and display output\n",
    "images, labels = next(iter(trainloader))\n",
    "images.resize_(images.shape[0], 1, 784)\n",
    "ps = model.forward(images[0,:])\n",
    "helper.view_classify(images[0].view(1, 28, 28), ps)"
   ]
  },
  {
   "cell_type": "markdown",
   "metadata": {},
   "source": [
    "Here our model is the same as before: 784 input units, a hidden layer with 128 units, ReLU activation, 64 unit hidden layer, another ReLU, then the output layer with 10 units, and the softmax output.\n",
    "\n",
    "The operations are availble by passing in the appropriate index. For example, if you want to get first Linear operation and look at the weights, you'd use `model[0]`."
   ]
  },
  {
   "cell_type": "code",
   "execution_count": 54,
   "metadata": {},
   "outputs": [
    {
     "name": "stdout",
     "output_type": "stream",
     "text": [
      "Linear(in_features=784, out_features=128, bias=True)\n"
     ]
    },
    {
     "data": {
      "text/plain": [
       "Parameter containing:\n",
       "tensor([[ 0.0168,  0.0014, -0.0236,  ...,  0.0276,  0.0143,  0.0101],\n",
       "        [-0.0097,  0.0027, -0.0218,  ..., -0.0118, -0.0241,  0.0072],\n",
       "        [-0.0189, -0.0344,  0.0183,  ..., -0.0272,  0.0021,  0.0241],\n",
       "        ...,\n",
       "        [ 0.0336,  0.0331,  0.0326,  ..., -0.0170, -0.0034, -0.0088],\n",
       "        [ 0.0003,  0.0269,  0.0276,  ..., -0.0222, -0.0311,  0.0069],\n",
       "        [ 0.0006, -0.0187, -0.0151,  ..., -0.0190,  0.0038,  0.0319]],\n",
       "       requires_grad=True)"
      ]
     },
     "execution_count": 54,
     "metadata": {},
     "output_type": "execute_result"
    }
   ],
   "source": [
    "print(model[0])\n",
    "model[0].weight"
   ]
  },
  {
   "cell_type": "markdown",
   "metadata": {},
   "source": [
    "You can also pass in an `OrderedDict` to name the individual layers and operations, instead of using incremental integers. Note that dictionary keys must be unique, so _each operation must have a different name_."
   ]
  },
  {
   "cell_type": "code",
   "execution_count": 55,
   "metadata": {},
   "outputs": [
    {
     "data": {
      "text/plain": [
       "Sequential(\n",
       "  (fc1): Linear(in_features=784, out_features=128, bias=True)\n",
       "  (relu1): ReLU()\n",
       "  (fc2): Linear(in_features=128, out_features=64, bias=True)\n",
       "  (relu2): ReLU()\n",
       "  (output): Linear(in_features=64, out_features=10, bias=True)\n",
       "  (softmax): Softmax()\n",
       ")"
      ]
     },
     "execution_count": 55,
     "metadata": {},
     "output_type": "execute_result"
    }
   ],
   "source": [
    "from collections import OrderedDict\n",
    "model = nn.Sequential(OrderedDict([\n",
    "                      ('fc1', nn.Linear(input_size, hidden_sizes[0])),\n",
    "                      ('relu1', nn.ReLU()),\n",
    "                      ('fc2', nn.Linear(hidden_sizes[0], hidden_sizes[1])),\n",
    "                      ('relu2', nn.ReLU()),\n",
    "                      ('output', nn.Linear(hidden_sizes[1], output_size)),\n",
    "                      ('softmax', nn.Softmax(dim=1))]))\n",
    "model"
   ]
  },
  {
   "cell_type": "markdown",
   "metadata": {},
   "source": [
    "Now you can access layers either by integer or the name"
   ]
  },
  {
   "cell_type": "code",
   "execution_count": 56,
   "metadata": {},
   "outputs": [
    {
     "name": "stdout",
     "output_type": "stream",
     "text": [
      "Linear(in_features=784, out_features=128, bias=True)\n",
      "Linear(in_features=784, out_features=128, bias=True)\n"
     ]
    }
   ],
   "source": [
    "print(model[0])\n",
    "print(model.fc1)"
   ]
  },
  {
   "cell_type": "markdown",
   "metadata": {},
   "source": [
    "In the next notebook, we'll see how we can train a neural network to accuractly predict the numbers appearing in the MNIST images."
   ]
  }
 ],
 "metadata": {
  "kernelspec": {
   "display_name": "udacity-pytorch",
   "language": "python",
   "name": "udacity-pytorch"
  },
  "language_info": {
   "codemirror_mode": {
    "name": "ipython",
    "version": 3
   },
   "file_extension": ".py",
   "mimetype": "text/x-python",
   "name": "python",
   "nbconvert_exporter": "python",
   "pygments_lexer": "ipython3",
   "version": "3.6.6"
  }
 },
 "nbformat": 4,
 "nbformat_minor": 2
}
